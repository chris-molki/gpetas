{
 "cells": [
  {
   "cell_type": "markdown",
   "id": "9ac703f5-5d11-4f5d-bb88-96cb3a75c4a7",
   "metadata": {},
   "source": [
    "## Inference setup, model setup\n",
    "In order to perform inference (Bayesian or Maximum Likelihood)\n",
    "one needs to define or setup several auxiliary variables.\n",
    "This is done by creating a ***setup_obj*** for the inference which \n",
    "includes all required information of the\n",
    "* Bayesian inference, i.e., Gibbs sampling procedure with Gaussian process \n",
    "modelling of the background intensity (GP-ETAS, gpetas) or\n",
    "* classical Maximum Likelihood estimation (MLE) using a kernel density estimator \n",
    "for the background intensity\n",
    "\n",
    "### Setup object for Bayesian inference (Gibbs sampler)"
   ]
  },
  {
   "cell_type": "code",
   "execution_count": 1,
   "id": "d888ed4c-6b77-4a49-86f0-cd65288754e6",
   "metadata": {},
   "outputs": [],
   "source": [
    "import gpetas\n",
    "import numpy as np\n",
    "import datetime\n",
    "time_format = \"%Y-%m-%d %H:%M:%S.%f\"\n",
    "\n",
    "\n",
    "# auto reload using developer version\n",
    "%load_ext autoreload\n",
    "%autoreload 2"
   ]
  },
  {
   "cell_type": "markdown",
   "id": "f5f7901f-274f-4afd-a799-9691306aac4d",
   "metadata": {},
   "source": [
    "#### Requires a *data_obj* which includes *domain_obj*\n",
    "In this example we specify first a domain in California and \n",
    "we download the data accordingly from an online source using\n",
    "pycsep functionalities"
   ]
  },
  {
   "cell_type": "code",
   "execution_count": 2,
   "id": "21f799b3-e075-48a0-9362-14badba93ec4",
   "metadata": {},
   "outputs": [
    {
     "name": "stdout",
     "output_type": "stream",
     "text": [
      "Fetched ComCat catalog in 42.589593172073364 seconds.\n",
      "\n",
      "Downloaded catalog from ComCat with following parameters\n",
      "Start Date: 2010-01-04 00:02:17.990000+00:00\n",
      "End Date: 2021-12-19 10:27:35.704000+00:00\n",
      "Min Latitude: 30.0063 and Max Latitude: 36.989\n",
      "Min Longitude: -119.9986667 and Max Longitude: -113.1498\n",
      "Min Magnitude: 3.5\n",
      "Found 1688 events in the ComCat catalog.\n",
      "Warning:\n",
      "Warning: 1  Duplicate(s) in the data set.\n",
      "jitter= 1.5046296084619826e-06\n",
      "    Values at idx [695] and [696] (counting from 0 to n-1) are the same.\n",
      "    Time: [968.88711481] [968.88711481]  days.\n",
      "    NEW Times: [968.88711481] [968.88711632]  days.\n",
      "NEW number of time duplicates= 0\n",
      "----------------------------------------------------------------------\n",
      "total number of events =  1688\n",
      "time origin            =  2010-01-01 00:00:00+00:00\n",
      "Starting time          = 0.0 time max= 4383.0\n",
      "T_borders all          = [   0. 4383.]\n",
      "|T|                    = 4383.0  days.\n",
      "T_borders training     = [   0. 3000.]\n",
      "min event time         = 3.0015971064814817\n",
      "max event time         = 4370.435829907407\n",
      "X_borders              = [[-120. -113.]\n",
      " [  30.   37.]]\n",
      "|X|= 49.0 deg**2\n",
      "x lon min -119.9986667 x lon max -113.1498 dx= 6.848866700000002\n",
      "y lat min 30.0063 y lat max 36.989 dy= 6.982699999999998\n",
      "minimum magnitude 3.5 maximum magnitude 7.2\n",
      "Number of identical event times:   0\n",
      "Fname is:  comcat_Rxxx_m0_35.dat\n",
      "____________________________________________________\n",
      "data_obj has been created and saved in: output/inference_results/data_obj_Rxxx.all\n"
     ]
    }
   ],
   "source": [
    "### generate domain obj\n",
    "# time domain\n",
    "time_origin = '2010-01-01 00:00:00.0'\n",
    "time_end = '2022-01-01 00:00:00.0'\n",
    "time_origin_obj = datetime.datetime.strptime(time_origin, time_format).replace(\n",
    "                tzinfo=datetime.timezone.utc)\n",
    "time_end_obj = datetime.datetime.strptime(time_end, time_format).replace(\n",
    "                tzinfo=datetime.timezone.utc)\n",
    "delta_Tall=(time_end_obj-time_origin_obj).total_seconds()/(60.*60.*24)\n",
    "T_borders_all = np.array([0.,delta_Tall])\n",
    "T_borders_training = np.array([0.,3000.])\n",
    "\n",
    "# spatial domain\n",
    "X_borders = np.array([[-120., -113.],[  30.,   37.]])\n",
    "\n",
    "# mark domain: [m0,+inf)\n",
    "m0=3.5\n",
    "\n",
    "domain_obj = gpetas.utils.R00x_setup.region_class()\n",
    "domain_obj.T_borders_all = T_borders_all\n",
    "domain_obj.T_borders_training=T_borders_training\n",
    "domain_obj.T_borders_testing = np.array([T_borders_training[1],T_borders_all[1]])\n",
    "domain_obj.time_origin = time_origin\n",
    "domain_obj.X_borders = X_borders\n",
    "domain_obj.m0 = m0\n",
    "# case_name (optional)\n",
    "# domain_obj.case_name = case_name\n",
    "vars(domain_obj)\n",
    "\n",
    "### generate data_obj with download data from online source\n",
    "# get pycsep catalog object\n",
    "import csep\n",
    "from csep.utils import comcat\n",
    "start_time = time_origin_obj\n",
    "end_time = time_end_obj\n",
    "min_magnitude=domain_obj.m0\n",
    "min_latitude=domain_obj.X_borders[1,0]\n",
    "max_latitude=domain_obj.X_borders[1,1]\n",
    "min_longitude=domain_obj.X_borders[0,0]\n",
    "max_longitude=domain_obj.X_borders[0,1]\n",
    "catalog_obj = csep.query_comcat(start_time=start_time, end_time=end_time, \n",
    "                        min_magnitude=min_magnitude, \n",
    "                        min_latitude=min_latitude,max_latitude=max_latitude, \n",
    "                        min_longitude=min_longitude, max_longitude=max_longitude)\n",
    "# cat2data_obj\n",
    "data_obj = gpetas.utils.get_data_pycsep.data_obj__from_catalog_obj(catalog_obj=catalog_obj,R_obj=domain_obj)"
   ]
  },
  {
   "cell_type": "markdown",
   "id": "025cfd6f-1ce6-418a-a0e2-3b0169cd8e12",
   "metadata": {},
   "source": [
    "## Generating an setup_obj for GP-ETAS (gpetas)"
   ]
  },
  {
   "cell_type": "code",
   "execution_count": 3,
   "id": "d07f5e6f-c34d-4e0e-b573-b8ff20f5f4a6",
   "metadata": {},
   "outputs": [
    {
     "name": "stdout",
     "output_type": "stream",
     "text": [
      "Rxxx\n",
      "#iters 201\n",
      "Output subdirectory exists\n",
      "setup_obj has been created and saved: ./output/inference_results/setup_obj_Rxxx.all\n"
     ]
    }
   ],
   "source": [
    "### load data_obj\n",
    "case_name = 'Rxxx'\n",
    "print(case_name)\n",
    "output_dir = './output/inference_results'\n",
    "fname = output_dir+'/data_obj_%s.all'%case_name\n",
    "data_obj = np.load(fname,allow_pickle=True)\n",
    "\n",
    "\n",
    "### variables of the Gibbs sampler\n",
    "\n",
    "# sampler parameters\n",
    "burnin = 50                                # number of discared initial samples. default: 5000\n",
    "Ksamples = 10                              # number of samples of the joint posterior default: 500 (a few hundreds)\n",
    "thinning = 20                              # default:10 # or 20:thinning of the obtained samples in order to avoid autocorrelation\n",
    "num_iterations = Ksamples*thinning+1\n",
    "MH_proposals_offspring = 100               # Number of MH proposals for offspring params\n",
    "MH_cov_empirical_yes = None                # using empirical cov for proposal distribution\n",
    "sigma_proposal_offspring_params = None     # uses default values: 0.01**2 # alternatives:0.03**2\n",
    "kth_sample_obj = None                      # starting sampling from kth sample \n",
    "print('#iters',num_iterations)\n",
    "\n",
    "\n",
    "# offspring\n",
    "prior_theta_dist = 'gamma'                 # specifies prior distribution either 'gamma' or 'uniform'\n",
    "prior_theta_params = None\n",
    "theta_start_Kcpadgq = None                 # uses default values:\n",
    "spatial_offspring = 'R'                    # alternatives: 'G' gaussian \n",
    "stable_theta_sampling = 'yes'              # constraint on theta that only stable Hawkes processes are allowed\n",
    "\n",
    "\n",
    "# bg: \n",
    "cov_params = None                          # start values of hypers, uses default: silverman rule\n",
    "mu_nu0 = None                              # mean of hyper prior on nu_0, uses default value:\n",
    "\n",
    "\n",
    "\n",
    "# bg: spatial resolution for plotting/evaluations\n",
    "ngrid_per_dim = 50                         # default value: 50\n",
    "X_grid = gpetas.some_fun.make_X_grid(data_obj.domain.X_borders, nbins=ngrid_per_dim)\n",
    "                                           # generates spatial grid for plotting etc.\n",
    "    \n",
    "# general \n",
    "time_origin = data_obj.domain.time_origin\n",
    "case_name = data_obj.case_name\n",
    "    \n",
    "# save results\n",
    "outdir = output_dir\n",
    "\n",
    "\n",
    "\n",
    "\n",
    "### (3.1) GS sampler  set up\n",
    "setup_obj = gpetas.setup_Gibbs_sampler.setup_sampler(data_obj=data_obj,\n",
    "             utm_yes=None,\n",
    "             spatial_offspring=spatial_offspring,\n",
    "             theta_start_Kcpadgq=theta_start_Kcpadgq,\n",
    "             sigma_proposal_offspring_params=sigma_proposal_offspring_params,\n",
    "             ngrid_per_dim=ngrid_per_dim,\n",
    "             cov_params=cov_params,\n",
    "             mu_nu0=None,\n",
    "             X_grid=X_grid,\n",
    "             outdir=outdir,\n",
    "             prior_theta_dist=prior_theta_dist,\n",
    "             prior_theta_params=prior_theta_params,\n",
    "             stable_theta_sampling=stable_theta_sampling,\n",
    "             time_origin=time_origin,\n",
    "             case_name=case_name,\n",
    "             burnin=burnin, \n",
    "             Ksamples=Ksamples,\n",
    "             num_iterations=num_iterations,\n",
    "             thinning=thinning,\n",
    "             MH_proposals_offspring=MH_proposals_offspring,\n",
    "             MH_cov_empirical_yes=MH_cov_empirical_yes,\n",
    "             kth_sample_obj=kth_sample_obj)\n"
   ]
  },
  {
   "cell_type": "code",
   "execution_count": 4,
   "id": "9e900163-2746-400f-9af5-1199478d3995",
   "metadata": {},
   "outputs": [
    {
     "data": {
      "text/plain": [
       "{'utm_yes': None,\n",
       " 'N_training': 998,\n",
       " 'mu0_start': 0.003394557823129252,\n",
       " 'mu0_grid': None,\n",
       " 'm0': 3.5,\n",
       " 'm_beta': 2.3977128030175625,\n",
       " 'theta_start_Kcpadgqbm0': array([2.5000000e-03, 1.0000000e-02, 1.2000000e+00, 1.8000000e+00,\n",
       "        5.0000000e-02, 5.0000000e-01, 2.0000000e+00, 2.3977128e+00,\n",
       "        3.5000000e+00]),\n",
       " 'spatial_offspring': 'R',\n",
       " 'sigma_proposal_offspring_params': 0.0001,\n",
       " 'cov_params': [5.0, array([0.37814954, 0.37814954])],\n",
       " 'cov_params_start': [5.0, array([0.37814954, 0.37814954])],\n",
       " 'mu_upper_bound': None,\n",
       " 'std_factor': 1.0,\n",
       " 'mu_nu0': None,\n",
       " 'mu_length_scale': None,\n",
       " 'sigma_proposal_hypers': 0.05,\n",
       " 'X_grid': array([[-120.        ,   30.        ],\n",
       "        [-119.85714286,   30.        ],\n",
       "        [-119.71428571,   30.        ],\n",
       "        ...,\n",
       "        [-113.28571429,   37.        ],\n",
       "        [-113.14285714,   37.        ],\n",
       "        [-113.        ,   37.        ]]),\n",
       " 'X_grid_NN': array([[0.        , 0.        ],\n",
       "        [0.14285714, 0.        ],\n",
       "        [0.28571429, 0.        ],\n",
       "        ...,\n",
       "        [6.71428571, 7.        ],\n",
       "        [6.85714286, 7.        ],\n",
       "        [7.        , 7.        ]]),\n",
       " 'prior_theta_dist': 'gamma',\n",
       " 'prior_theta_params': None,\n",
       " 'stable_theta_sampling': 'yes',\n",
       " 'data_obj': <gpetas.utils.some_fun.create_data_obj_from_cat_file at 0x7ff688a02670>,\n",
       " 'time_origin': '2010-01-01 00:00:00.000000',\n",
       " 'case_name': 'Rxxx',\n",
       " 'burnin': 50,\n",
       " 'Ksamples': 10,\n",
       " 'num_iterations': 201,\n",
       " 'thinning': 20,\n",
       " 'MH_proposals_offspring': 100,\n",
       " 'MH_cov_empirical_yes': None,\n",
       " 'kth_sample_obj': None,\n",
       " 'outdir': './output/inference_results'}"
      ]
     },
     "execution_count": 4,
     "metadata": {},
     "output_type": "execute_result"
    }
   ],
   "source": [
    "vars(setup_obj)"
   ]
  },
  {
   "cell_type": "markdown",
   "id": "5262f915-da88-438d-8a9f-92403583ad23",
   "metadata": {},
   "source": [
    "***"
   ]
  },
  {
   "cell_type": "markdown",
   "id": "a229da37-7285-484c-b3a1-c084fae3e50e",
   "metadata": {},
   "source": [
    "***"
   ]
  },
  {
   "cell_type": "markdown",
   "id": "e1058904-37e6-4eb9-bdcc-16e263665a55",
   "metadata": {},
   "source": [
    "### Setup object for classical MLE (KDE-ETAS)"
   ]
  },
  {
   "cell_type": "markdown",
   "id": "f1aeca5f-02a0-4371-96e6-27a9c3fb21c4",
   "metadata": {},
   "source": [
    "#### Requires a *data_obj* which includes *domain_obj*\n",
    "In this example we load a previously generated *data_obj* and\n",
    "we also load a previously generated *setup_obj* of the Gibbs sampler\n",
    "in order to generate a *setup_obj_mle* comparable to the Gibbs sampler\n",
    "setup."
   ]
  },
  {
   "cell_type": "code",
   "execution_count": 14,
   "id": "680b2b0c-e099-4e8a-aed7-a50e367418c7",
   "metadata": {},
   "outputs": [
    {
     "name": "stdout",
     "output_type": "stream",
     "text": [
      "Rxxx\n",
      "./output/inference_results subdirectory exists\n",
      "mle_setup_obj has been created and saved: ./output/inference_results/setup_obj_default_Rxxx_mle.all\n"
     ]
    }
   ],
   "source": [
    "### load data_obj\n",
    "case_name = 'Rxxx'\n",
    "print(case_name)\n",
    "output_dir = './output/inference_results'\n",
    "fname = output_dir+'/data_obj_%s.all'%case_name\n",
    "data_obj = np.load(fname,allow_pickle=True)\n",
    "\n",
    "### load setup_obj from the GP-ETAS sampler\n",
    "fname = output_dir+'/setup_obj_%s.all'%case_name\n",
    "setup_obj = np.load(fname,allow_pickle=True)\n",
    "\n",
    "### variables of the MLE procedure (EM)\n",
    "\n",
    "# bg KDE parameters\n",
    "Nnearest=15                                     # default value: 15\n",
    "h_min_degree=0.05                               # default value: 0.05 in degrees\n",
    "silverman = None                                # default value: None #alternative 'yes'; minimal bandwith via Silverman Rule yes or no(None)\n",
    "bins = int(np.sqrt(setup_obj.X_grid.shape[0]))  # default value: 50\n",
    "X_grid = setup_obj.X_grid\n",
    "\n",
    "# offspring\n",
    "stable_theta = setup_obj.stable_theta_sampling\n",
    "theta_start_Kcpadgqbm0 = setup_obj.theta_start_Kcpadgqbm0  # uses default values for a stabil Hawkes process:\n",
    "spatial_offspring = setup_obj.spatial_offspring\n",
    "\n",
    "# save setup_obj_mle\n",
    "outdir = setup_obj.outdir \n",
    "case_name = setup_obj.case_name\n",
    "\n",
    "# create setup_obj_mle\n",
    "setup_obj_mle = gpetas.mle_KDE_ETAS.setup_mle(data_obj=data_obj,\n",
    "                    theta_start_Kcpadgqbm0=theta_start_Kcpadgqbm0,\n",
    "                    spatial_offspring=spatial_offspring,\n",
    "                    Nnearest=Nnearest,\n",
    "                    h_min_degree=h_min_degree,\n",
    "                    spatial_units='degree',\n",
    "                    utm_yes=None,\n",
    "                    bins=bins,\n",
    "                    X_grid=X_grid,\n",
    "                    outdir=outdir,\n",
    "                    stable_theta=stable_theta,\n",
    "                    case_name=case_name,\n",
    "                    silverman=silverman)"
   ]
  },
  {
   "cell_type": "code",
   "execution_count": 15,
   "id": "4e3a507e-82a3-4455-98f5-4ad42c90247a",
   "metadata": {},
   "outputs": [
    {
     "data": {
      "text/plain": [
       "{'data_obj': <gpetas.utils.some_fun.create_data_obj_from_cat_file at 0x7ff68b37d640>,\n",
       " 'utm_yes': None,\n",
       " 'spatial_units': 'degree',\n",
       " 'N_training': 998,\n",
       " 'absX_training': 49.0,\n",
       " 'absT_training': 3000.0,\n",
       " 'case_name': 'Rxxx',\n",
       " 'theta_start_Kcpadgqbm0': array([2.5000000e-03, 1.0000000e-02, 1.2000000e+00, 1.8000000e+00,\n",
       "        5.0000000e-02, 5.0000000e-01, 2.0000000e+00, 2.3977128e+00,\n",
       "        3.5000000e+00]),\n",
       " 'm0': 3.5,\n",
       " 'm_beta': 2.3977128030175625,\n",
       " 'spatial_offspring': 'R',\n",
       " 'mu_start': 0.003394557823129252,\n",
       " 'X_borders_NN': array([[0., 7.],\n",
       "        [0., 7.]]),\n",
       " 'X_grid': array([[-120.        ,   30.        ],\n",
       "        [-119.85714286,   30.        ],\n",
       "        [-119.71428571,   30.        ],\n",
       "        ...,\n",
       "        [-113.28571429,   37.        ],\n",
       "        [-113.14285714,   37.        ],\n",
       "        [-113.        ,   37.        ]]),\n",
       " 'bins': 50,\n",
       " 'Nnearest': 15,\n",
       " 'h_min_degree': 0.05,\n",
       " 'dLL': 10.0,\n",
       " 'stable_theta': 'yes',\n",
       " 'outdir': './output/inference_results'}"
      ]
     },
     "execution_count": 15,
     "metadata": {},
     "output_type": "execute_result"
    }
   ],
   "source": [
    "vars(setup_obj_mle)"
   ]
  },
  {
   "cell_type": "code",
   "execution_count": null,
   "id": "74a091a0-2105-49a8-8374-3d3f313cad65",
   "metadata": {},
   "outputs": [],
   "source": []
  }
 ],
 "metadata": {
  "kernelspec": {
   "display_name": "Python 3 (ipykernel)",
   "language": "python",
   "name": "python3"
  },
  "language_info": {
   "codemirror_mode": {
    "name": "ipython",
    "version": 3
   },
   "file_extension": ".py",
   "mimetype": "text/x-python",
   "name": "python",
   "nbconvert_exporter": "python",
   "pygments_lexer": "ipython3",
   "version": "3.9.15"
  }
 },
 "nbformat": 4,
 "nbformat_minor": 5
}
