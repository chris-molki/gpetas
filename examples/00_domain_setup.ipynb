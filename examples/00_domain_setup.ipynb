{
 "cells": [
  {
   "cell_type": "markdown",
   "id": "38e93568-e86a-440b-906e-bdb2230314be",
   "metadata": {},
   "source": [
    "# Define domain\n",
    "You have to specify following aspects of the domain:\n",
    "\n",
    "* time domain\n",
    "    * time borders for the training T_borders_training\n",
    "    * time borders for the testing T_borders_testing\n",
    "    * time origin (when was '0.' days) given by a *datetime* format: '%Y-%m-%d %H:%M:%S.%f'\n",
    "* spatial domain X_borders\n",
    "* domain of the marks (magnitudes) usually by m0"
   ]
  },
  {
   "cell_type": "code",
   "execution_count": 3,
   "id": "5af1a8c0-aaf2-41c0-a55b-370412bfff19",
   "metadata": {},
   "outputs": [
    {
     "name": "stdout",
     "output_type": "stream",
     "text": [
      "The autoreload extension is already loaded. To reload it, use:\n",
      "  %reload_ext autoreload\n"
     ]
    }
   ],
   "source": [
    "import gpetas\n",
    "import numpy as np\n",
    "\n",
    "# auto reload using developer version\n",
    "%load_ext autoreload\n",
    "%autoreload 2\n"
   ]
  },
  {
   "cell_type": "code",
   "execution_count": 4,
   "id": "b603a4bf-f82c-4212-b9dc-f27a0366730a",
   "metadata": {},
   "outputs": [
    {
     "data": {
      "text/plain": [
       "{'T_borders_all': array([   0., 4383.]),\n",
       " 'T_borders_training': array([   0., 3000.]),\n",
       " 'T_borders_testing': array([3000., 4383.]),\n",
       " 'X_borders': array([[-120., -113.],\n",
       "        [  30.,   37.]]),\n",
       " 'X_borders_UTM_km': None,\n",
       " 'X_borders_original': None,\n",
       " 'time_origin': '2010-01-01 00:00:00.0',\n",
       " 'm0': 3.5}"
      ]
     },
     "execution_count": 4,
     "metadata": {},
     "output_type": "execute_result"
    }
   ],
   "source": [
    "# specify domain\n",
    "T_borders_all = np.array([0.,4383.]) # until '2022-01-01 00:00:00.0'\n",
    "T_borders_training = np.array([0.,3000.])\n",
    "time_origin = '2010-01-01 00:00:00.0'\n",
    "X_borders = np.array([[-120., -113.],[  30.,   37.]])\n",
    "m0=3.5\n",
    "\n",
    "domain_obj = gpetas.utils.R00x_setup.region_class()\n",
    "domain_obj.T_borders_all = T_borders_all\n",
    "domain_obj.T_borders_training=T_borders_training\n",
    "domain_obj.T_borders_testing = np.array([T_borders_training[1],T_borders_all[1]])\n",
    "domain_obj.time_origin = time_origin\n",
    "domain_obj.X_borders = X_borders\n",
    "domain_obj.m0 = m0\n",
    "vars(domain_obj)\n"
   ]
  },
  {
   "cell_type": "code",
   "execution_count": null,
   "id": "32bf05e3-b85d-4fbb-8290-4614efcb78f5",
   "metadata": {},
   "outputs": [],
   "source": []
  }
 ],
 "metadata": {
  "kernelspec": {
   "display_name": "Python 3 (ipykernel)",
   "language": "python",
   "name": "python3"
  },
  "language_info": {
   "codemirror_mode": {
    "name": "ipython",
    "version": 3
   },
   "file_extension": ".py",
   "mimetype": "text/x-python",
   "name": "python",
   "nbconvert_exporter": "python",
   "pygments_lexer": "ipython3",
   "version": "3.9.15"
  }
 },
 "nbformat": 4,
 "nbformat_minor": 5
}
