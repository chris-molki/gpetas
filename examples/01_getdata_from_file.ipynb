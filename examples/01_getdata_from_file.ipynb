{
 "cells": [
  {
   "cell_type": "markdown",
   "id": "38e93568-e86a-440b-906e-bdb2230314be",
   "metadata": {},
   "source": [
    "# Data from a text file\n",
    "Observed data can be provided either directly in a text file with a specific format which gpetas can read."
   ]
  },
  {
   "cell_type": "code",
   "execution_count": 1,
   "id": "5af1a8c0-aaf2-41c0-a55b-370412bfff19",
   "metadata": {},
   "outputs": [
    {
     "name": "stdout",
     "output_type": "stream",
     "text": [
      "____________________________________________________\n",
      "data_obj has been created and saved in: ./inference_results/data_obj_case_01.all\n"
     ]
    }
   ],
   "source": [
    "import gpetas\n",
    "import numpy as np\n",
    "\n",
    "fname = './data/comcat_RSCA_m35_t0_0101_2010_all.cat'\n",
    "data_obj = gpetas.some_fun.create_data_obj_from_cat_file(fname)"
   ]
  },
  {
   "cell_type": "code",
   "execution_count": null,
   "id": "779059cf-8e2e-4f7f-8220-ed27559fcd36",
   "metadata": {},
   "outputs": [],
   "source": []
  },
  {
   "cell_type": "code",
   "execution_count": null,
   "id": "a648c972-6be7-4bbe-a79c-36c09b79ec9a",
   "metadata": {},
   "outputs": [],
   "source": []
  },
  {
   "cell_type": "code",
   "execution_count": null,
   "id": "1def3870-3b7b-47e3-9a81-5ddfd20771ad",
   "metadata": {},
   "outputs": [],
   "source": []
  }
 ],
 "metadata": {
  "kernelspec": {
   "display_name": "Python 3 (ipykernel)",
   "language": "python",
   "name": "python3"
  },
  "language_info": {
   "codemirror_mode": {
    "name": "ipython",
    "version": 3
   },
   "file_extension": ".py",
   "mimetype": "text/x-python",
   "name": "python",
   "nbconvert_exporter": "python",
   "pygments_lexer": "ipython3",
   "version": "3.9.15"
  }
 },
 "nbformat": 4,
 "nbformat_minor": 5
}
