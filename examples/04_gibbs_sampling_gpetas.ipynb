{
 "cells": [
  {
   "cell_type": "markdown",
   "id": "9ac703f5-5d11-4f5d-bb88-96cb3a75c4a7",
   "metadata": {},
   "source": [
    "## Inference\n",
    "\n",
    "### Bayesian inference via sampling\n",
    "Starting the GP-ETAS sampler require a ```gpetas```\n",
    "*setup_obj* as described above. It contains everything\n",
    "you need: data, domain definition, setup variables.\n",
    "\n",
    "Load or generate a *setup_obj* as described above and \n",
    "initialize the sampler."
   ]
  },
  {
   "cell_type": "code",
   "execution_count": 1,
   "id": "d888ed4c-6b77-4a49-86f0-cd65288754e6",
   "metadata": {},
   "outputs": [],
   "source": [
    "import gpetas\n",
    "import numpy as np\n",
    "import datetime\n",
    "time_format = \"%Y-%m-%d %H:%M:%S.%f\"\n",
    "\n",
    "\n",
    "# auto reload using developer version\n",
    "%load_ext autoreload\n",
    "%autoreload 2"
   ]
  },
  {
   "cell_type": "markdown",
   "id": "f5f7901f-274f-4afd-a799-9691306aac4d",
   "metadata": {},
   "source": [
    "#### Initialization of the sampler requires a *setup_obj* which includes *data_obj* and *domain_obj*\n",
    "In this example we load a previously generated *setup_obj*."
   ]
  },
  {
   "cell_type": "code",
   "execution_count": 9,
   "id": "21f799b3-e075-48a0-9362-14badba93ec4",
   "metadata": {},
   "outputs": [
    {
     "name": "stdout",
     "output_type": "stream",
     "text": [
      "Rxxx\n"
     ]
    }
   ],
   "source": [
    "case_name = 'Rxxx'\n",
    "print(case_name)\n",
    "output_dir = './output/inference_results'\n",
    "fname = output_dir+'/setup_obj_%s.all'%case_name\n",
    "setup_obj = np.load(fname,allow_pickle=True)\n",
    "#vars(setup_obj)"
   ]
  },
  {
   "cell_type": "markdown",
   "id": "c57b850c-360b-499d-8635-c6eea4298b5d",
   "metadata": {},
   "source": [
    "#### Initalization of the sampler"
   ]
  },
  {
   "cell_type": "code",
   "execution_count": 10,
   "id": "64c38e37-3d68-40f5-9f3c-f2cf8e80b7d1",
   "metadata": {},
   "outputs": [
    {
     "name": "stdout",
     "output_type": "stream",
     "text": [
      "UPPER BOUND: lambda_star_start =  0.003394557823129252\n",
      "===================================================\n",
      "INITIALIZATION of theta_tilde (offspring parameters)\n",
      "     spatial kernel:  Rupture Length Power Law with params: D_RL_pwl, gamma_RL_pwl, q_RL_pwl\n",
      "[K, c, p, m_alpha, D_RL_pwl, gamma_RL_pwl, q_RL_pwl, m_beta, m0]\n",
      "[2.5000000e-03 1.0000000e-02 1.2000000e+00 1.8000000e+00 5.0000000e-02\n",
      " 5.0000000e-01 2.0000000e+00 2.3977128e+00 3.5000000e+00]\n",
      "===================================================\n",
      "START: hyper prior: self.prior_mu_upper_bound  = [0.17222638]\n",
      "START: self.alpha0                             = 1.0\n",
      "START: self.beta0                              = [5.80631154]\n",
      "START: self.prior_std_factor_upper_bound       = 1.0\n"
     ]
    }
   ],
   "source": [
    "GS = gpetas.Gibbs_sampler.GS_ETAS(data_obj=setup_obj.data_obj, \n",
    "        setup_obj=setup_obj, \n",
    "        burnin=setup_obj.burnin,\n",
    "        num_samples=setup_obj.Ksamples, \n",
    "        stat_background=False, \n",
    "        thinning=setup_obj.thinning,\n",
    "        kth_sample_obj=setup_obj.kth_sample_obj, \n",
    "        case_name=setup_obj.case_name, \n",
    "        MH_proposals_offspring=setup_obj.MH_proposals_offspring, \n",
    "        MH_cov_empirical_yes=setup_obj.MH_cov_empirical_yes)"
   ]
  },
  {
   "cell_type": "code",
   "execution_count": 15,
   "id": "ff644b2d-fbcd-4adc-ba66-006ffae72599",
   "metadata": {},
   "outputs": [
    {
     "name": "stdout",
     "output_type": "stream",
     "text": [
      "---------------------------------------\n",
      "case name                = Rxxx\n",
      "---------------------------------------\n",
      "domain from data_obj\n",
      "{'T_borders_all': array([   0., 4383.]),\n",
      " 'T_borders_testing': array([3000., 4383.]),\n",
      " 'T_borders_training': array([   0., 3000.]),\n",
      " 'X_borders': array([[-120., -113.],\n",
      "       [  30.,   37.]]),\n",
      " 'X_borders_UTM_km': None,\n",
      " 'X_borders_original': array([[-120., -113.],\n",
      "       [  30.,   37.]]),\n",
      " 'm0': 3.5,\n",
      " 'time_origin': '2010-01-01 00:00:00.000000'}\n",
      "---------------------------------------\n",
      "burnin                   =  50\n",
      "Ksamples                 =  10\n",
      "thinning                 =  20\n",
      "Ntotal iter              =  201\n",
      "MH_proposals_offspring   =  100\n",
      "MH_cov_empirical_yes     =  None\n",
      "kth_sample_obj           =  None\n",
      "---------------------------------------\n",
      "theta prior:                           \n",
      "prior_theta_dist         = gamma\n",
      "prior_theta_params       = None\n",
      "stable_theta_sampling    = yes\n"
     ]
    }
   ],
   "source": [
    "# some info to the screen\n",
    "import pprint\n",
    "print('---------------------------------------')\n",
    "print('case name                =',setup_obj.case_name)\n",
    "print('---------------------------------------')\n",
    "print('domain from data_obj')\n",
    "pprint.pprint(vars(setup_obj.data_obj.__dict__['domain']))\n",
    "print('---------------------------------------')\n",
    "print('burnin                   = ',setup_obj.burnin)\n",
    "print('Ksamples                 = ',setup_obj.Ksamples)\n",
    "print('thinning                 = ',setup_obj.thinning)\n",
    "print('Ntotal iter              = ',setup_obj.num_iterations)\n",
    "print('MH_proposals_offspring   = ',setup_obj.MH_proposals_offspring)\n",
    "print('MH_cov_empirical_yes     = ',setup_obj.MH_cov_empirical_yes)\n",
    "print('kth_sample_obj           = ',setup_obj.kth_sample_obj)\n",
    "print('---------------------------------------')\n",
    "print('theta prior:                           ')\n",
    "print('prior_theta_dist         =',setup_obj.prior_theta_dist)\n",
    "print('prior_theta_params       =',setup_obj.prior_theta_params)\n",
    "print('stable_theta_sampling    =',setup_obj.stable_theta_sampling)"
   ]
  },
  {
   "cell_type": "markdown",
   "id": "2698c71a-42a4-4a2b-b66a-37dcf9a80aa3",
   "metadata": {},
   "source": [
    "#### Start sampler"
   ]
  },
  {
   "cell_type": "code",
   "execution_count": null,
   "id": "3d5ca4c4-e990-41d7-87cc-f6694ade54e9",
   "metadata": {},
   "outputs": [],
   "source": []
  },
  {
   "cell_type": "code",
   "execution_count": null,
   "id": "cfe7acb6-697f-4261-a65b-4bf8152eb722",
   "metadata": {},
   "outputs": [],
   "source": []
  },
  {
   "cell_type": "code",
   "execution_count": null,
   "id": "be02c4b1-cb30-4ac0-b494-ac8393b2f485",
   "metadata": {},
   "outputs": [],
   "source": []
  }
 ],
 "metadata": {
  "kernelspec": {
   "display_name": "Python 3 (ipykernel)",
   "language": "python",
   "name": "python3"
  },
  "language_info": {
   "codemirror_mode": {
    "name": "ipython",
    "version": 3
   },
   "file_extension": ".py",
   "mimetype": "text/x-python",
   "name": "python",
   "nbconvert_exporter": "python",
   "pygments_lexer": "ipython3",
   "version": "3.9.15"
  }
 },
 "nbformat": 4,
 "nbformat_minor": 5
}
